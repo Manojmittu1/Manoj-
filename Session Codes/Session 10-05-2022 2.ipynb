{
 "cells": [
  {
   "cell_type": "markdown",
   "metadata": {},
   "source": [
    "If statement"
   ]
  },
  {
   "cell_type": "code",
   "execution_count": 2,
   "metadata": {},
   "outputs": [
    {
     "name": "stdout",
     "output_type": "stream",
     "text": [
      "Code executed\n"
     ]
    }
   ],
   "source": [
    "n = int(input(\"Enter a number: \"))\n",
    "if( n % 2 == 0 ): #if this is true then only it will enter the if block or else it will skip it\n",
    "    print(\"The number is even\") #will be executed only when the number is true\n",
    "print(\"Code executed\")"
   ]
  },
  {
   "cell_type": "markdown",
   "metadata": {},
   "source": [
    "If Else statement"
   ]
  },
  {
   "cell_type": "code",
   "execution_count": 3,
   "metadata": {},
   "outputs": [
    {
     "name": "stdout",
     "output_type": "stream",
     "text": [
      "The number is odd\n",
      "Code executed\n"
     ]
    }
   ],
   "source": [
    "n = int(input(\"Enter a number: \"))\n",
    "if( n % 2 == 0 ): #if this is true then only it will enter the if block or else it will skip it\n",
    "    print(\"The number is even\") #will be executed only when the number is true\n",
    "else:\n",
    "    print(\"The number is odd\")\n",
    "print(\"Code executed\")"
   ]
  },
  {
   "cell_type": "markdown",
   "metadata": {},
   "source": [
    "If else if statement"
   ]
  },
  {
   "cell_type": "code",
   "execution_count": 7,
   "metadata": {},
   "outputs": [
    {
     "name": "stdout",
     "output_type": "stream",
     "text": [
      "You are not eligible to drive\n"
     ]
    }
   ],
   "source": [
    "print(\"Choose from the following menu: \")\n",
    "print(\"1. Water\",\"2. Cold Drink\", \"3. Milkshake\", sep = \"\\t\")\n",
    "x = int(input(\"Enter your choice: \"))\n",
    "if (x == 1):\n",
    "    print(\"You have choosen water\")\n",
    "elif (x == 2):\n",
    "    print(\"You have choosen Cold Drink\")\n",
    "elif( x == 3):\n",
    "    print(\"You have choosen Milkshake\")\n",
    "else:\n",
    "    print(\"You have selected nothing\")"
   ]
  },
  {
   "cell_type": "markdown",
   "metadata": {},
   "source": [
    "Nested if"
   ]
  },
  {
   "cell_type": "code",
   "execution_count": 11,
   "metadata": {},
   "outputs": [
    {
     "name": "stdout",
     "output_type": "stream",
     "text": [
      "2000 is a century year as well as leap year\n"
     ]
    }
   ],
   "source": [
    "year = int(input(\"Enter the year: \"))\n",
    "if(year % 100 == 0):\n",
    "    if(year % 400 == 0):\n",
    "        print(f\"{year} is a century year as well as leap year\")\n",
    "    else:\n",
    "        print(f\"{year} is a century year only\")\n",
    "else:\n",
    "    if(year % 4 == 0):\n",
    "        print(f\"{year} is a leap year\")\n",
    "    else:\n",
    "        print(f\"{year} is not a leap year\")"
   ]
  },
  {
   "cell_type": "code",
   "execution_count": 13,
   "metadata": {},
   "outputs": [
    {
     "name": "stdout",
     "output_type": "stream",
     "text": [
      "2000 is a century year as well as leap year\n"
     ]
    }
   ],
   "source": [
    "year = int(input(\"Enter the year: \"))\n",
    "if(year % 100 == 0 and year % 400 != 0):\n",
    "    print(\"The year is century year\")\n",
    "elif(year % 400 == 0):\n",
    "    print(f\"{year} is a century year as well as leap year\")\n",
    "elif(year % 100 != 0 and year % 4 == 0):\n",
    "    print(f\"{year} is a leap year\")\n",
    "else:\n",
    "    print(f\"{year} is not a leap year\")"
   ]
  }
 ],
 "metadata": {
  "interpreter": {
   "hash": "2c4a0e462d5eb47ccb02ab75c092febb222556232e160fc793b5c239a0fdd870"
  },
  "kernelspec": {
   "display_name": "Python 3.10.0 64-bit",
   "language": "python",
   "name": "python3"
  },
  "language_info": {
   "codemirror_mode": {
    "name": "ipython",
    "version": 3
   },
   "file_extension": ".py",
   "mimetype": "text/x-python",
   "name": "python",
   "nbconvert_exporter": "python",
   "pygments_lexer": "ipython3",
   "version": "3.10.0"
  },
  "orig_nbformat": 4
 },
 "nbformat": 4,
 "nbformat_minor": 2
}
